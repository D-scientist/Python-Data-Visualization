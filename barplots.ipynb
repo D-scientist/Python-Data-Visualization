{
 "cells": [
  {
   "cell_type": "markdown",
   "metadata": {},
   "source": [
    "\n",
    "##### Title = \"Mr\"\n",
    "##### Name = \"Muhammad Sami-Ur-Rahman\"\n",
    "##### Email = \"Samiurr87@gmail.com\"\n",
    "##### whatsapp = \"+923129635704\""
   ]
  },
  {
   "cell_type": "markdown",
   "metadata": {},
   "source": [
    "# Bar Plot"
   ]
  },
  {
   "cell_type": "code",
   "execution_count": 1,
   "metadata": {},
   "outputs": [],
   "source": [
    "#STEP-1 import laiberaries \n",
    "import  pandas as pd\n",
    "import numpy as np\n",
    "import seaborn as sns\n",
    "import matplotlib.pyplot as plt"
   ]
  },
  {
   "cell_type": "code",
   "execution_count": 3,
   "metadata": {},
   "outputs": [
    {
     "data": {
      "text/html": [
       "<div>\n",
       "<style scoped>\n",
       "    .dataframe tbody tr th:only-of-type {\n",
       "        vertical-align: middle;\n",
       "    }\n",
       "\n",
       "    .dataframe tbody tr th {\n",
       "        vertical-align: top;\n",
       "    }\n",
       "\n",
       "    .dataframe thead th {\n",
       "        text-align: right;\n",
       "    }\n",
       "</style>\n",
       "<table border=\"1\" class=\"dataframe\">\n",
       "  <thead>\n",
       "    <tr style=\"text-align: right;\">\n",
       "      <th></th>\n",
       "      <th>survived</th>\n",
       "      <th>pclass</th>\n",
       "      <th>sex</th>\n",
       "      <th>age</th>\n",
       "      <th>sibsp</th>\n",
       "      <th>parch</th>\n",
       "      <th>fare</th>\n",
       "      <th>embarked</th>\n",
       "      <th>class</th>\n",
       "      <th>who</th>\n",
       "      <th>adult_male</th>\n",
       "      <th>deck</th>\n",
       "      <th>embark_town</th>\n",
       "      <th>alive</th>\n",
       "      <th>alone</th>\n",
       "    </tr>\n",
       "  </thead>\n",
       "  <tbody>\n",
       "    <tr>\n",
       "      <th>0</th>\n",
       "      <td>0</td>\n",
       "      <td>3</td>\n",
       "      <td>male</td>\n",
       "      <td>22.0</td>\n",
       "      <td>1</td>\n",
       "      <td>0</td>\n",
       "      <td>7.2500</td>\n",
       "      <td>S</td>\n",
       "      <td>Third</td>\n",
       "      <td>man</td>\n",
       "      <td>True</td>\n",
       "      <td>NaN</td>\n",
       "      <td>Southampton</td>\n",
       "      <td>no</td>\n",
       "      <td>False</td>\n",
       "    </tr>\n",
       "    <tr>\n",
       "      <th>1</th>\n",
       "      <td>1</td>\n",
       "      <td>1</td>\n",
       "      <td>female</td>\n",
       "      <td>38.0</td>\n",
       "      <td>1</td>\n",
       "      <td>0</td>\n",
       "      <td>71.2833</td>\n",
       "      <td>C</td>\n",
       "      <td>First</td>\n",
       "      <td>woman</td>\n",
       "      <td>False</td>\n",
       "      <td>C</td>\n",
       "      <td>Cherbourg</td>\n",
       "      <td>yes</td>\n",
       "      <td>False</td>\n",
       "    </tr>\n",
       "    <tr>\n",
       "      <th>2</th>\n",
       "      <td>1</td>\n",
       "      <td>3</td>\n",
       "      <td>female</td>\n",
       "      <td>26.0</td>\n",
       "      <td>0</td>\n",
       "      <td>0</td>\n",
       "      <td>7.9250</td>\n",
       "      <td>S</td>\n",
       "      <td>Third</td>\n",
       "      <td>woman</td>\n",
       "      <td>False</td>\n",
       "      <td>NaN</td>\n",
       "      <td>Southampton</td>\n",
       "      <td>yes</td>\n",
       "      <td>True</td>\n",
       "    </tr>\n",
       "    <tr>\n",
       "      <th>3</th>\n",
       "      <td>1</td>\n",
       "      <td>1</td>\n",
       "      <td>female</td>\n",
       "      <td>35.0</td>\n",
       "      <td>1</td>\n",
       "      <td>0</td>\n",
       "      <td>53.1000</td>\n",
       "      <td>S</td>\n",
       "      <td>First</td>\n",
       "      <td>woman</td>\n",
       "      <td>False</td>\n",
       "      <td>C</td>\n",
       "      <td>Southampton</td>\n",
       "      <td>yes</td>\n",
       "      <td>False</td>\n",
       "    </tr>\n",
       "    <tr>\n",
       "      <th>4</th>\n",
       "      <td>0</td>\n",
       "      <td>3</td>\n",
       "      <td>male</td>\n",
       "      <td>35.0</td>\n",
       "      <td>0</td>\n",
       "      <td>0</td>\n",
       "      <td>8.0500</td>\n",
       "      <td>S</td>\n",
       "      <td>Third</td>\n",
       "      <td>man</td>\n",
       "      <td>True</td>\n",
       "      <td>NaN</td>\n",
       "      <td>Southampton</td>\n",
       "      <td>no</td>\n",
       "      <td>True</td>\n",
       "    </tr>\n",
       "  </tbody>\n",
       "</table>\n",
       "</div>"
      ],
      "text/plain": [
       "   survived  pclass     sex   age  sibsp  parch     fare embarked  class  \\\n",
       "0         0       3    male  22.0      1      0   7.2500        S  Third   \n",
       "1         1       1  female  38.0      1      0  71.2833        C  First   \n",
       "2         1       3  female  26.0      0      0   7.9250        S  Third   \n",
       "3         1       1  female  35.0      1      0  53.1000        S  First   \n",
       "4         0       3    male  35.0      0      0   8.0500        S  Third   \n",
       "\n",
       "     who  adult_male deck  embark_town alive  alone  \n",
       "0    man        True  NaN  Southampton    no  False  \n",
       "1  woman       False    C    Cherbourg   yes  False  \n",
       "2  woman       False  NaN  Southampton   yes   True  \n",
       "3  woman       False    C  Southampton   yes  False  \n",
       "4    man        True  NaN  Southampton    no   True  "
      ]
     },
     "execution_count": 3,
     "metadata": {},
     "output_type": "execute_result"
    }
   ],
   "source": [
    "# STEP-2 Load Data Set \n",
    "boat1 = sns.load_dataset(\"titanic\")\n",
    "boat1.head(5) "
   ]
  },
  {
   "cell_type": "code",
   "execution_count": 8,
   "metadata": {},
   "outputs": [
    {
     "data": {
      "text/plain": [
       "<AxesSubplot:xlabel='who', ylabel='fare'>"
      ]
     },
     "execution_count": 8,
     "metadata": {},
     "output_type": "execute_result"
    },
    {
     "data": {
      "image/png": "[encoded data removed]",
      "text/plain": [
       "<Figure size 360x360 with 1 Axes>"
      ]
     },
     "metadata": {},
     "output_type": "display_data"
    }
   ],
   "source": [
    "##### NOTE ######\n",
    "### We can adjust Fig size Before selection of plot Otherwise it will not change\n",
    "\n",
    "plt.figure(figsize=(5,5))\n",
    "\n",
    "#Selecting Plot\n",
    "sns.barplot(x=\"who\", y=\"fare\", hue=\"sex\", data=boat1,color=\"red\")\n"
   ]
  },
  {
   "cell_type": "markdown",
   "metadata": {},
   "source": [
    "#### Set Style () "
   ]
  },
  {
   "cell_type": "code",
   "execution_count": 36,
   "metadata": {},
   "outputs": [
    {
     "data": {
      "text/plain": [
       "<function matplotlib.pyplot.show(close=None, block=None)>"
      ]
     },
     "execution_count": 36,
     "metadata": {},
     "output_type": "execute_result"
    },
    {
     "data": {
      "image/png": "[encoded data removed]",
      "text/plain": [
       "<Figure size 360x360 with 1 Axes>"
      ]
     },
     "metadata": {},
     "output_type": "display_data"
    }
   ],
   "source": [
    "##### NOTE ######\n",
    "### We can adjust Fig size Before selection of plot Otherwise it will not change\n",
    "\n",
    "plt.figure(figsize=(5,5))\n",
    "\n",
    "#Selecting Plot\n",
    "sns.barplot(x=\"who\", y=\"fare\", hue=\"sex\", data=boat1,color=\"#77ed96\")\n",
    "\n",
    "# plot.title(\"Flower\")\n",
    "plt.title(\"Boat Data\")\n",
    "\n",
    "# # X,Y limt Set\n",
    "# plt.xlim(0.5)\n",
    "# plt.ylim(-1)\n",
    "\n",
    "# Set Plot Backgroung Style \n",
    "sns.set_style(\"dark\")\n",
    "sns.set_style(style=None, rc =None)\n",
    "\n",
    "\n",
    "\n",
    "plt.show"
   ]
  },
  {
   "cell_type": "markdown",
   "metadata": {},
   "source": [
    "### Customize Plot \n",
    "- hue\n",
    "- order\n",
    "- colour \n",
    "- Confidance interval \n",
    "- palette colour\n",
    "- estimator\n",
    "- Saturation"
   ]
  },
  {
   "cell_type": "code",
   "execution_count": 17,
   "metadata": {},
   "outputs": [
    {
     "data": {
      "image/png": "[encoded data removed]",
      "text/plain": [
       "<Figure size 432x288 with 1 Axes>"
      ]
     },
     "metadata": {},
     "output_type": "display_data"
    }
   ],
   "source": [
    "##### NOTE ######\n",
    "### We can adjust Fig size Before selection of plot Otherwise it will not change\n",
    "\n",
    "# plt.figure(figsize=(5,5))\n",
    "\n",
    "#Selecting Plot\n",
    "sns.barplot(x=\"who\", y=\"alone\", hue=\"sex\", data=boat1,palette=\"pastel\")\n",
    "\n",
    "\n",
    "# plot.title(\"Flower\")\n",
    "sns.set_style(style=None, rc =None)\n",
    "plt.title(\"Boat Data\")\n",
    "\n",
    "# # X,Y limt Set\n",
    "\n",
    "# plt.xlim(0.5)\n",
    "# plt.ylim(-1)\n",
    "\n",
    "# Set Plot Backgroung Style \n",
    "sns.set_style(\"dark\")"
   ]
  },
  {
   "cell_type": "code",
   "execution_count": 18,
   "metadata": {},
   "outputs": [
    {
     "data": {
      "image/png": "[encoded data removed]",
      "text/plain": [
       "<Figure size 432x288 with 1 Axes>"
      ]
     },
     "metadata": {},
     "output_type": "display_data"
    }
   ],
   "source": [
    "# Confidance interval\n",
    "##### NOTE ######\n",
    "### We can adjust Fig size Before selection of plot Otherwise it will not change\n",
    "\n",
    "# plt.figure(figsize=(5,5))\n",
    "\n",
    "#Selecting Plot\n",
    "sns.barplot(x=\"who\", y=\"alone\", hue=\"sex\", data=boat1,palette=\"pastel\",ci=None)\n",
    "\n",
    "\n",
    "# plot.title(\"Flower\")\n",
    "sns.set_style(style=None, rc =None)\n",
    "plt.title(\"Boat Data\")\n",
    "\n",
    "# # X,Y limt Set\n",
    "\n",
    "# plt.xlim(0.5)\n",
    "# plt.ylim(-1)\n",
    "\n",
    "# Set Plot Backgroung Style \n",
    "sns.set_style(\"dark\")"
   ]
  },
  {
   "cell_type": "code",
   "execution_count": 19,
   "metadata": {},
   "outputs": [
    {
     "data": {
      "image/png": "[encoded data removed]",
      "text/plain": [
       "<Figure size 432x288 with 1 Axes>"
      ]
     },
     "metadata": {},
     "output_type": "display_data"
    }
   ],
   "source": [
    "# -----------------                      Estimator     & Saturation       -----------\n",
    "\n",
    "from numpy import mean\n",
    "##### NOTE ######\n",
    "### We can adjust Fig size Before selection of plot Otherwise it will not change\n",
    "\n",
    "# plt.figure(figsize=(5,5))\n",
    "\n",
    "#Selecting Plot\n",
    "sns.barplot(x=\"class\", y=\"fare\", hue=\"who\", data=boat1,color=\"red\",palette=\"pastel\",estimator=mean,saturation=2)\n",
    "\n",
    "\n",
    "# plot title\n",
    "\n",
    "plt.title(\"Boat Data\")\n",
    "\n",
    "# # X,Y limt Set\n",
    "\n",
    "# plt.xlim(0.5)\n",
    "# plt.ylim(-1)\n",
    "\n",
    "# Set Plot Backgroung Style \n",
    "sns.set_style(\"dark\")\n",
    "sns.set_style(style=None, rc =None)"
   ]
  },
  {
   "cell_type": "code",
   "execution_count": 22,
   "metadata": {},
   "outputs": [
    {
     "data": {
      "image/png": "[encoded data removed]",
      "text/plain": [
       "<Figure size 432x288 with 1 Axes>"
      ]
     },
     "metadata": {},
     "output_type": "display_data"
    }
   ],
   "source": [
    "from numpy import mean\n",
    "##### NOTE ######\n",
    "### We can adjust Fig size Before selection of plot Otherwise it will not change\n",
    "\n",
    "# plt.figure(figsize=(5,5))\n",
    "\n",
    "#Selecting Plot\n",
    "sns.barplot(x=\"fare\", y=\"class\", hue=\"who\", data=boat1,color=\"red\",palette=\"pastel\",estimator=mean,saturation=2)\n",
    "\n",
    "\n",
    "# plot title\n",
    "\n",
    "plt.title(\"Boat Data\")\n",
    "\n",
    "# # X,Y limt Set\n",
    "\n",
    "# plt.xlim(0.5)\n",
    "# plt.ylim(-1)\n",
    "\n",
    "# Set Plot Backgroung Style \n",
    "sns.set_style(\"dark\")\n",
    "sns.set_style(style=None, rc =None)"
   ]
  },
  {
   "cell_type": "code",
   "execution_count": 35,
   "metadata": {},
   "outputs": [
    {
     "data": {
      "text/plain": [
       "<AxesSubplot:xlabel='class', ylabel='fare'>"
      ]
     },
     "execution_count": 35,
     "metadata": {},
     "output_type": "execute_result"
    },
    {
     "data": {
      "image/png": "[encoded data removed]",
      "text/plain": [
       "<Figure size 432x288 with 1 Axes>"
      ]
     },
     "metadata": {},
     "output_type": "display_data"
    }
   ],
   "source": [
    "sns.barplot(x=\"class\",y=\"fare\",data=boat1,\n",
    "                linewidth=3,facecolor=(0.5,0.4,0.8,1),\n",
    "                errcolor='0.3',edgecolor='0.3')"
   ]
  },
  {
   "cell_type": "code",
   "execution_count": null,
   "metadata": {},
   "outputs": [],
   "source": []
  }
 ],
 "metadata": {
  "interpreter": {
   "hash": "9d50952eb0fd9583ef3234b17d7b352251875fa45f8874f29d03c4bb158a9d2b"
  },
  "kernelspec": {
   "display_name": "Python 3.9.7 64-bit ('base': conda)",
   "language": "python",
   "name": "python3"
  },
  "language_info": {
   "codemirror_mode": {
    "name": "ipython",
    "version": 3
   },
   "file_extension": ".py",
   "mimetype": "text/x-python",
   "name": "python",
   "nbconvert_exporter": "python",
   "pygments_lexer": "ipython3",
   "version": "3.9.7"
  },
  "orig_nbformat": 4
 },
 "nbformat": 4,
 "nbformat_minor": 2
}
